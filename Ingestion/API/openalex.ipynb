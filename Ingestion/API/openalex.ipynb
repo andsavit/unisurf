{
 "cells": [
  {
   "cell_type": "code",
   "execution_count": 25,
   "id": "d6099dca",
   "metadata": {},
   "outputs": [],
   "source": [
    "import requests\n",
    "import json\n",
    "from tqdm import tqdm\n",
    "from pathlib import Path"
   ]
  },
  {
   "cell_type": "markdown",
   "id": "95cb3dc8",
   "metadata": {},
   "source": [
    "## Funzioni di chiamata API a Openalex "
   ]
  },
  {
   "cell_type": "code",
   "execution_count": 7,
   "id": "c7bec9fc",
   "metadata": {},
   "outputs": [],
   "source": [
    "def chiamata_openalex(page=1, per_page = 100, cursor = '*'):\n",
    "\n",
    "    url = f\"https://api.openalex.org/works?per_page={per_page}&filter=institutions.id:https://openalex.org/I66752286&page={page}&cursor={cursor}\"\n",
    "\n",
    "    payload = {}\n",
    "    headers = {}\n",
    "\n",
    "    response = requests.request(\"GET\", url, headers=headers, data=payload)\n",
    "\n",
    "    if response.status_code == 200:\n",
    "        return response.json()\n",
    "    # salva/parsa come preferisci\n",
    "    else:\n",
    "        print(f\"Errore: {response.status_code} - {response.text}\")\n",
    "        print(response.text)\n"
   ]
  },
  {
   "cell_type": "markdown",
   "id": "26166f6d",
   "metadata": {},
   "source": [
    "## Implementazione"
   ]
  },
  {
   "cell_type": "code",
   "execution_count": null,
   "id": "689afe8e",
   "metadata": {},
   "outputs": [],
   "source": [
    "per_page = 100\n",
    "\n",
    "test = chiamata_openalex(page=1, per_page=per_page, cursor='*')\n",
    "n_results = test['meta']['count']\n",
    "next_cursor=test['meta']['next_cursor']\n",
    "pages = n_results // per_page + 1\n",
    "\n",
    "data = []\n",
    "data.append(test['results'])\n",
    "\n",
    "for i in tqdm(range(2, pages), desc=\"Scaricamento Pagine\"):\n",
    "\n",
    "    page_data = chiamata_openalex(page=i, per_page=per_page, cursor=next_cursor)\n",
    "\n",
    "    if page_data and 'results' in page_data:\n",
    "        data.extend(page_data['results'])  # Supponendo che i dati siano sotto 'results'\n",
    "        next_cursor = data['meta']['next_cursor']\n",
    "    else:\n",
    "        print(f\"Errore con la pagina {i}:\\n\")\n",
    "        next_cursor='*'\n",
    "\n",
    "    if i % 10 == 1:\n",
    "        with open(\"works_bicocca.json\", \"a\", encoding=\"utf-8\") as f:\n",
    "            for item in data:\n",
    "                f.write(jsom.dumps(item, ensure_ascii=Flase)+\"\\n\")\n",
    "            print(f\"Scritto a file alla pagina {i}\")\n",
    "            data.clear()\n",
    "\n",
    "print(\"Completato.\")\n",
    "\n",
    "    \n"
   ]
  },
  {
   "cell_type": "code",
   "execution_count": 5,
   "id": "58025e93",
   "metadata": {},
   "outputs": [],
   "source": [
    "response = requests.request(\"GET\", \"https://api.openalex.org/works?per_page={per_page}}&filter=institutions.id:https://openalex.org/I66752286&page={page}\", headers={}, data={})"
   ]
  },
  {
   "cell_type": "code",
   "execution_count": 7,
   "id": "b185c697",
   "metadata": {},
   "outputs": [
    {
     "data": {
      "text/plain": [
       "dict"
      ]
     },
     "execution_count": 7,
     "metadata": {},
     "output_type": "execute_result"
    }
   ],
   "source": [
    "type(response.json())"
   ]
  },
  {
   "cell_type": "code",
   "execution_count": 28,
   "id": "7f59e028",
   "metadata": {},
   "outputs": [
    {
     "name": "stdout",
     "output_type": "stream",
     "text": [
      "IlsxMDAuMCwgODM2LCAnaHR0cHM6Ly9vcGVuYWxleC5vcmcvVzI0Njk0NjQyMTYnXSI=\n"
     ]
    }
   ],
   "source": [
    "print(next_cursor)"
   ]
  },
  {
   "cell_type": "code",
   "execution_count": 8,
   "id": "b6207ca1",
   "metadata": {},
   "outputs": [
    {
     "name": "stdout",
     "output_type": "stream",
     "text": [
      "Scritto a file alla pagina 1\n",
      "Scritto a file alla pagina 11\n",
      "Scritto a file alla pagina 21\n",
      "Scritto a file alla pagina 31\n",
      "Scritto a file alla pagina 41\n",
      "Scritto a file alla pagina 51\n",
      "Scritto a file alla pagina 61\n",
      "Scritto a file alla pagina 71\n",
      "Scritto a file alla pagina 81\n",
      "Scritto a file alla pagina 91\n",
      "Scritto a file alla pagina 101\n",
      "Scritto a file alla pagina 111\n",
      "Scritto a file alla pagina 121\n",
      "Scritto a file alla pagina 131\n",
      "Scritto a file alla pagina 141\n",
      "Scritto a file alla pagina 151\n",
      "Scritto a file alla pagina 161\n",
      "Scritto a file alla pagina 171\n",
      "Scritto a file alla pagina 181\n",
      "Scritto a file alla pagina 191\n",
      "Scritto a file alla pagina 201\n",
      "Scritto a file alla pagina 211\n",
      "Scritto a file alla pagina 221\n",
      "Scritto a file alla pagina 231\n",
      "Scritto a file alla pagina 241\n",
      "Scritto a file alla pagina 251\n",
      "Scritto a file alla pagina 261\n",
      "Scritto a file alla pagina 271\n",
      "Scritto a file alla pagina 281\n",
      "Scritto a file alla pagina 291\n",
      "Scritto a file alla pagina 301\n",
      "Scritto a file alla pagina 311\n",
      "Scritto a file alla pagina 321\n",
      "Scritto a file alla pagina 331\n",
      "Scritto a file alla pagina 341\n",
      "Scritto a file alla pagina 351\n",
      "Scritto a file alla pagina 361\n",
      "Scritto a file alla pagina 371\n",
      "Scritto a file alla pagina 381\n",
      "Scritto a file alla pagina 391\n",
      "Scritto a file alla pagina 401\n",
      "Scritto a file alla pagina 411\n",
      "Scritto a file alla pagina 421\n",
      "Scritto a file alla pagina 431\n",
      "Scritto a file alla pagina 441\n",
      "Scritto a file alla pagina 451\n",
      "Scritto a file alla pagina 461\n",
      "Scritto a file alla pagina 471\n",
      "Scritto a file alla pagina 481\n",
      "Scritto a file alla pagina 491\n",
      "Scritto a file alla pagina 501\n",
      "Scritto a file alla pagina 511\n",
      "Scritto a file alla pagina 521\n",
      "Scritto a file alla pagina 531\n",
      "Scritto a file alla pagina 541\n",
      "Scritto a file alla pagina 551\n",
      "Scritto a file alla pagina 561\n",
      "Scritto a file alla pagina 571\n",
      "Completato.\n"
     ]
    }
   ],
   "source": [
    "per_page = 100\n",
    "\n",
    "test = chiamata_openalex(per_page=per_page, cursor='*')\n",
    "n_results = test['meta']['count']\n",
    "next_cursor=test['meta']['next_cursor']\n",
    "\n",
    "data = []\n",
    "data.extend(test['results'])\n",
    "\n",
    "i=0\n",
    "while next_cursor:\n",
    "    \n",
    "    page_data = chiamata_openalex(per_page=per_page, cursor=next_cursor)\n",
    "\n",
    "    if page_data and 'results' in page_data:\n",
    "        data.extend(page_data['results'])  # Supponendo che i dati siano sotto 'results'\n",
    "        next_cursor = page_data['meta']['next_cursor']\n",
    "        i=i+1\n",
    "    else:\n",
    "        print(f\"Errore con la pagina {i}:\\n\")\n",
    "        next_cursor='*'\n",
    "\n",
    "    if i % 10 == 1:\n",
    "        with open(\"works_bicocca.jsonl\", \"a\", encoding=\"utf-8\") as f:\n",
    "            for item in data:\n",
    "                f.write(json.dumps(item, ensure_ascii=False)+\"\\n\")\n",
    "            print(f\"Scritto a file alla pagina {i}\")\n",
    "            data.clear()\n",
    "\n",
    "print(\"Completato.\")"
   ]
  },
  {
   "cell_type": "code",
   "execution_count": 9,
   "id": "8c5ae8a4",
   "metadata": {},
   "outputs": [],
   "source": [
    "with open(\"works_bicocca.jsonl\", \"r\", encoding=\"utf-8\") as f:\n",
    "    for i, line in enumerate(f, 1):\n",
    "        obj = json.loads(line)\n",
    "        if not isinstance(obj, dict):\n",
    "            print(f\"Errore alla riga {i}: non è un oggetto JSON\")"
   ]
  },
  {
   "cell_type": "code",
   "execution_count": 10,
   "id": "3e8c9a6c",
   "metadata": {},
   "outputs": [],
   "source": [
    "def chiamata_openalex_institutions(page=1, per_page = 100, cursor = '*'):\n",
    "\n",
    "    url = f\"https://api.openalex.org/institutions?filter=country_code:it&page={page}&cursor={cursor}&per_page={per_page}\"\n",
    "\n",
    "    payload = {}\n",
    "    headers = {}\n",
    "\n",
    "    response = requests.request(\"GET\", url, headers=headers, data=payload)\n",
    "\n",
    "    if response.status_code == 200:\n",
    "        return response.json()\n",
    "    # salva/parsa come preferisci\n",
    "    else:\n",
    "        print(f\"Errore: {response.status_code} - {response.text}\")\n",
    "        print(response.text)\n"
   ]
  },
  {
   "cell_type": "code",
   "execution_count": 11,
   "id": "dae3a752",
   "metadata": {},
   "outputs": [
    {
     "name": "stdout",
     "output_type": "stream",
     "text": [
      "Scritto a file alla pagina 1\n",
      "Scritto a file alla pagina 11\n",
      "Scritto a file alla pagina 21\n",
      "Completato.\n"
     ]
    }
   ],
   "source": [
    "per_page = 100\n",
    "\n",
    "test = chiamata_openalex_institutions(per_page=per_page, cursor='*')\n",
    "n_results = test['meta']['count']\n",
    "next_cursor=test['meta']['next_cursor'] #per molti risultati serve inizializzare un cursore\n",
    "\n",
    "data = []\n",
    "data.extend(test['results'])\n",
    "\n",
    "i=0\n",
    "while next_cursor:\n",
    "    \n",
    "    page_data = chiamata_openalex_institutions(per_page=per_page, cursor=next_cursor)\n",
    "\n",
    "    if page_data and 'results' in page_data:\n",
    "        data.extend(page_data['results'])  # Supponendo che i dati siano sotto 'results'\n",
    "        next_cursor = page_data['meta']['next_cursor']\n",
    "        i=i+1\n",
    "    else:\n",
    "        print(f\"Errore con la pagina {i}:\\n\")\n",
    "        next_cursor='*'\n",
    "\n",
    "    if i % 10 == 1:\n",
    "        with open(\"institutions_it.jsonl\", \"a\", encoding=\"utf-8\") as f:\n",
    "            for item in data:\n",
    "                f.write(json.dumps(item, ensure_ascii=False)+\"\\n\")\n",
    "            print(f\"Scritto a file alla pagina {i}\")\n",
    "            data.clear()\n",
    "\n",
    "print(\"Completato.\")"
   ]
  },
  {
   "cell_type": "markdown",
   "id": "ad8fbf8f",
   "metadata": {},
   "source": [
    "## Chiamata professori\n",
    "\n"
   ]
  },
  {
   "cell_type": "code",
   "execution_count": 18,
   "id": "8b7fba21",
   "metadata": {},
   "outputs": [],
   "source": [
    "def chiamata_openalex_prof(filter, page=1, cursor='*', per_page = 100):\n",
    "\n",
    "    url = f\"https://api.openalex.org/authors?filter={filter}&page={page}&cursor={cursor}\"\n",
    "\n",
    "    payload = {}\n",
    "    headers = {}\n",
    "\n",
    "    response = requests.request(\"GET\", url, headers=headers, data=payload)\n",
    "\n",
    "    if response.status_code == 200:\n",
    "        return response.json()\n",
    "    # salva/parsa come preferisci\n",
    "    else:\n",
    "        print(f\"Errore: {response.status_code} - {response.text}\")\n",
    "        print(response.text)\n"
   ]
  },
  {
   "cell_type": "code",
   "execution_count": null,
   "id": "89d84e39",
   "metadata": {},
   "outputs": [
    {
     "ename": "NameError",
     "evalue": "name '__file__' is not defined",
     "output_type": "error",
     "traceback": [
      "\u001b[31m---------------------------------------------------------------------------\u001b[39m",
      "\u001b[31mNameError\u001b[39m                                 Traceback (most recent call last)",
      "\u001b[36mCell\u001b[39m\u001b[36m \u001b[39m\u001b[32mIn[26]\u001b[39m\u001b[32m, line 3\u001b[39m\n\u001b[32m      1\u001b[39m \u001b[38;5;28;01mimport\u001b[39;00m\u001b[38;5;250m \u001b[39m\u001b[34;01mjson\u001b[39;00m\n\u001b[32m----> \u001b[39m\u001b[32m3\u001b[39m script_path = Path(\u001b[34;43m__file__\u001b[39;49m).resolve()\n\u001b[32m      5\u001b[39m \u001b[38;5;66;03m# Directory genitore della directory dello script\u001b[39;00m\n\u001b[32m      6\u001b[39m parent_dir = script_path.parent.parent\n",
      "\u001b[31mNameError\u001b[39m: name '__file__' is not defined"
     ]
    }
   ],
   "source": [
    "script_path = Path(__file__).resolve()\n",
    "\n",
    "# Directory genitore della directory dello script\n",
    "parent_dir = script_path.parent.parent\n",
    "\n",
    "# Directory `data` dentro il genitore\n",
    "data_dir = parent_dir / \"data\"\n",
    "\n",
    "# Crea la cartella se non esiste\n",
    "data_dir.mkdir(exist_ok=True)\n",
    "\n",
    "# Ora puoi usarla per salvare il file\n",
    "file_path = data_dir / f\"openalex-prof-{id_clean}.jsonl\"\n",
    "\n",
    "ids = [\n",
    "    'https://openalex.org/I11039511'\n",
    "]\n",
    "\n",
    "base_filter = 'affiliations.institution.id:'\n",
    "\n",
    "for el in ids:\n",
    "    id_clean = el.split(\"/\")[-1]  # estrae solo 'I11039511'\n",
    "    filter_string = base_filter + id_clean\n",
    "    print(filter_string)\n",
    "\n",
    "    data = chiamata_openalex_prof(filter=filter_string)  # assumendo che restituisca una lista\n",
    "\n",
    "    with open(file_path, \"w\", encoding=\"utf-8\") as f:\n",
    "        for i, item in enumerate(data, start=1):\n",
    "            f.write(json.dumps(item, ensure_ascii=False) + \"\\n\")\n",
    "            print(f\"Scritto a file alla pagina {i}\")\n",
    "    "
   ]
  },
  {
   "cell_type": "code",
   "execution_count": 22,
   "id": "038fa6cf",
   "metadata": {},
   "outputs": [],
   "source": [
    "with open(\"openalex-prof-I11039511.jsonl\", \"r\", encoding=\"utf-8\") as f:\n",
    "    for i, line in enumerate(f, 1):\n",
    "        obj = json.loads(line)\n",
    "        if not isinstance(obj, dict):\n",
    "            print(f\"Errore alla riga {i}: non è un oggetto JSON\")"
   ]
  },
  {
   "cell_type": "code",
   "execution_count": null,
   "id": "82678b24",
   "metadata": {},
   "outputs": [
    {
     "name": "stdout",
     "output_type": "stream",
     "text": [
      "Filtro: affiliations.institution.id:I11039511\n",
      "Scritto a file alla pagina 1\n",
      "Scritto a file alla pagina 2\n",
      "Scritto a file alla pagina 3\n",
      "Scritto a file alla pagina 4\n",
      "Scritto a file alla pagina 5\n",
      "Scritto a file alla pagina 6\n",
      "Scritto a file alla pagina 7\n",
      "Scritto a file alla pagina 8\n",
      "Scritto a file alla pagina 9\n",
      "Scritto a file alla pagina 10\n",
      "Scritto a file alla pagina 11\n",
      "Scritto a file alla pagina 12\n",
      "Scritto a file alla pagina 13\n",
      "Scritto a file alla pagina 14\n",
      "Scritto a file alla pagina 15\n",
      "Scritto a file alla pagina 16\n",
      "Scritto a file alla pagina 17\n",
      "Scritto a file alla pagina 18\n",
      "Scritto a file alla pagina 19\n",
      "Scritto a file alla pagina 20\n",
      "Scritto a file alla pagina 21\n",
      "Scritto a file alla pagina 22\n",
      "Scritto a file alla pagina 23\n",
      "Scritto a file alla pagina 24\n",
      "Scritto a file alla pagina 25\n"
     ]
    }
   ],
   "source": [
    "#Ottieni il path assoluto del file o del notebook\n",
    "# Usa __file__ se sei in uno script .py, altrimenti Path().resolve()\n",
    "script_path = Path().resolve()\n",
    "\n",
    "# Vai al genitore del genitore\n",
    "grandparent_dir = script_path.parent.parent\n",
    "\n",
    "# Directory `data` nel genitore del genitore\n",
    "data_dir = grandparent_dir / \"data/raw_data\"\n",
    "data_dir.mkdir(exist_ok=True)\n",
    "\n",
    "# Lista di ID OpenAlex (URL)\n",
    "ids = [\n",
    "    'https://openalex.org/I11039511'\n",
    "]\n",
    "\n",
    "base_filter = 'affiliations.institution.id:'\n",
    "\n",
    "for el in ids:\n",
    "    id_clean = el.split(\"/\")[-1]  # estrae solo 'I11039511'\n",
    "    filter_string = base_filter + id_clean\n",
    "    print(f\"Filtro: {filter_string}\")\n",
    "\n",
    "    data = chiamata_openalex_prof(filter=filter_string)  # Funzione da definire\n",
    "\n",
    "    # Percorso completo per il file\n",
    "    file_path = data_dir / f\"openalex-prof-{id_clean}.jsonl\"\n",
    "\n",
    "    with open(file_path, \"w\", encoding=\"utf-8\") as f:\n",
    "        for i, item in enumerate(data['results'], start=1):\n",
    "            f.write(json.dumps(item, ensure_ascii=False) + \"\\n\")\n",
    "            print(f\"Scritto a file alla pagina {i}\")"
   ]
  },
  {
   "cell_type": "code",
   "execution_count": null,
   "id": "bb7ea742",
   "metadata": {},
   "outputs": [],
   "source": []
  }
 ],
 "metadata": {
  "kernelspec": {
   "display_name": "Python 3",
   "language": "python",
   "name": "python3"
  },
  "language_info": {
   "codemirror_mode": {
    "name": "ipython",
    "version": 3
   },
   "file_extension": ".py",
   "mimetype": "text/x-python",
   "name": "python",
   "nbconvert_exporter": "python",
   "pygments_lexer": "ipython3",
   "version": "3.12.0"
  }
 },
 "nbformat": 4,
 "nbformat_minor": 5
}
