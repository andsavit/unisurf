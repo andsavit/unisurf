{
 "cells": [
  {
   "cell_type": "code",
   "execution_count": 10,
   "id": "72569a5a",
   "metadata": {},
   "outputs": [],
   "source": [
    "import pandas as pd\n",
    "import pymongo"
   ]
  },
  {
   "cell_type": "code",
   "execution_count": null,
   "id": "09dddd39",
   "metadata": {},
   "outputs": [],
   "source": [
    "def leggi_dati_rubrica():\n",
    "\n",
    "    file_prof = \"data/tabelle/RubricaMIURStatEnriched.csv\"\n",
    "\n",
    "    prof_miur = pd.read_csv(file_prof, sep=',')\n",
    "\n",
    "    prof_data = prof_miur[['id', 'Cognome e Nome', 'ror', 'id_oa']]\n",
    "\n",
    "    print(prof_data.head(5))"
   ]
  },
  {
   "cell_type": "code",
   "execution_count": 9,
   "id": "17f3f84b",
   "metadata": {},
   "outputs": [
    {
     "name": "stdout",
     "output_type": "stream",
     "text": [
      "   id          Cognome e Nome                        ror  \\\n",
      "0   0     ABASTANTE Francesca                        NaN   \n",
      "1   1       ABATANGELO Chiara                        NaN   \n",
      "2   2        ABATANGELO Laura  https://ror.org/01nffqt88   \n",
      "3   3       ABATANGELO Nicola                        NaN   \n",
      "4   4  ABATE Andrea Francesco                        NaN   \n",
      "\n",
      "                            id_oa  \n",
      "0                             NaN  \n",
      "1                             NaN  \n",
      "2  https://openalex.org/I93860229  \n",
      "3                             NaN  \n",
      "4                             NaN  \n"
     ]
    }
   ],
   "source": [
    "leggi_dati_rubrica()"
   ]
  },
  {
   "cell_type": "code",
   "execution_count": null,
   "id": "4735dd9d",
   "metadata": {},
   "outputs": [],
   "source": []
  }
 ],
 "metadata": {
  "kernelspec": {
   "display_name": ".venv",
   "language": "python",
   "name": "python3"
  },
  "language_info": {
   "codemirror_mode": {
    "name": "ipython",
    "version": 3
   },
   "file_extension": ".py",
   "mimetype": "text/x-python",
   "name": "python",
   "nbconvert_exporter": "python",
   "pygments_lexer": "ipython3",
   "version": "3.12.0"
  }
 },
 "nbformat": 4,
 "nbformat_minor": 5
}
